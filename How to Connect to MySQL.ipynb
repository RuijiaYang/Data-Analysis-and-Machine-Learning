{
 "cells": [
  {
   "cell_type": "markdown",
   "metadata": {},
   "source": [
    "# Hearthstone Decks: Data Cleaning & Connection to MySQL"
   ]
  },
  {
   "cell_type": "markdown",
   "metadata": {},
   "source": [
    "The dataset used here is about the Game called \"Hearthstone\", a card game involves 9 professions & sets of 30 cards of decks.\n",
    "\n",
    "data.csv includes information about all the complete(30 cards set of cards)decks within a period. data2.csv includes detailed information about all the cards in each sets within the same period."
   ]
  },
  {
   "cell_type": "code",
   "execution_count": 1,
   "metadata": {
    "collapsed": true
   },
   "outputs": [],
   "source": [
    "import pandas as pd\n",
    "import numpy as np\n",
    "import seaborn as sns\n",
    "import json\n",
    "import matplotlib.pyplot as plt\n",
    "import datetime"
   ]
  },
  {
   "cell_type": "code",
   "execution_count": 2,
   "metadata": {
    "collapsed": true
   },
   "outputs": [],
   "source": [
    "from datetime import datetime, timedelta\n",
    "from collections import OrderedDict"
   ]
  },
  {
   "cell_type": "code",
   "execution_count": 3,
   "metadata": {
    "collapsed": true
   },
   "outputs": [],
   "source": [
    "#open data file which contains decks information\n",
    "decks = pd.read_csv('data1.csv',encoding='latin-1')"
   ]
  },
  {
   "cell_type": "code",
   "execution_count": 4,
   "metadata": {
    "collapsed": true
   },
   "outputs": [],
   "source": [
    "#open data2 file which contains\n",
    "decks_ref=pd.read_csv('data2.csv', low_memory=False)"
   ]
  },
  {
   "cell_type": "code",
   "execution_count": 5,
   "metadata": {
    "collapsed": true
   },
   "outputs": [],
   "source": [
    "#####test\n",
    "cards_ref=pd.read_json('refs.json')"
   ]
  },
  {
   "cell_type": "code",
   "execution_count": 6,
   "metadata": {
    "collapsed": true
   },
   "outputs": [],
   "source": [
    "# reformat data: date string to datetime object\n",
    "decks['date']=pd.to_datetime(decks['date'])"
   ]
  },
  {
   "cell_type": "code",
   "execution_count": 7,
   "metadata": {
    "collapsed": true
   },
   "outputs": [],
   "source": [
    "# card information reference document,including all the cards information in Hearthstone\n",
    "with open ('refs.json',encoding='utf-8') as file:\n",
    "    cards=json.load(file)"
   ]
  },
  {
   "cell_type": "code",
   "execution_count": 8,
   "metadata": {
    "collapsed": true
   },
   "outputs": [],
   "source": [
    "cards_ref=pd.DataFrame(cards)"
   ]
  },
  {
   "cell_type": "markdown",
   "metadata": {},
   "source": [
    "## Data Cleaning"
   ]
  },
  {
   "cell_type": "code",
   "execution_count": 9,
   "metadata": {},
   "outputs": [
    {
     "name": "stdout",
     "output_type": "stream",
     "text": [
      "62996\n"
     ]
    }
   ],
   "source": [
    "#show row of decks before cleaning\n",
    "raw_len=len(decks)\n",
    "print(raw_len)"
   ]
  },
  {
   "cell_type": "code",
   "execution_count": 10,
   "metadata": {},
   "outputs": [
    {
     "name": "stdout",
     "output_type": "stream",
     "text": [
      "62996\n",
      "First deck : 2016-01-28 00:00:00\n",
      "Last deck : 2017-01-19 00:00:00\n"
     ]
    }
   ],
   "source": [
    "#Check data validity 1 Since the game has officially started from Mar 15,2014, remove decks before the date.\n",
    "release_date=datetime(2014,3,15)\n",
    "decks=decks[decks['date']>release_date]\n",
    "\n",
    "print(len(decks))\n",
    "print ('First deck :', min(decks['date']))\n",
    "print ('Last deck :', max(decks['date'])) "
   ]
  },
  {
   "cell_type": "code",
   "execution_count": 11,
   "metadata": {
    "collapsed": true
   },
   "outputs": [],
   "source": [
    "#Check data validity 2. Duplicity check.\n",
    "assert len(decks['deck_id'].unique())==len(decks)"
   ]
  },
  {
   "cell_type": "code",
   "execution_count": 12,
   "metadata": {},
   "outputs": [
    {
     "data": {
      "text/plain": [
       "craft_cost        0\n",
       "date              0\n",
       "deck_archetype    0\n",
       "deck_class        0\n",
       "deck_format       0\n",
       "deck_id           0\n",
       "deck_set          0\n",
       "deck_type         0\n",
       "rating            0\n",
       "title             1\n",
       "user              0\n",
       "dtype: int64"
      ]
     },
     "execution_count": 12,
     "metadata": {},
     "output_type": "execute_result"
    }
   ],
   "source": [
    "#Check data accuracy，check null.\n",
    "decks.isnull().sum()"
   ]
  },
  {
   "cell_type": "code",
   "execution_count": 13,
   "metadata": {},
   "outputs": [
    {
     "data": {
      "text/plain": [
       "craft_cost        0\n",
       "date              0\n",
       "deck_archetype    0\n",
       "deck_class        0\n",
       "deck_format       0\n",
       "deck_id           0\n",
       "deck_set          0\n",
       "deck_type         0\n",
       "rating            0\n",
       "title             0\n",
       "user              0\n",
       "dtype: int64"
      ]
     },
     "execution_count": 13,
     "metadata": {},
     "output_type": "execute_result"
    }
   ],
   "source": [
    "#delete the rows contains null\n",
    "decks=decks.dropna()\n",
    "decks.isnull().sum()"
   ]
  },
  {
   "cell_type": "code",
   "execution_count": 14,
   "metadata": {
    "collapsed": true
   },
   "outputs": [],
   "source": [
    "#Check data accuracy by check duplicity \n",
    "assert len(decks_ref['deck_id'].unique())==len(decks_ref)"
   ]
  },
  {
   "cell_type": "code",
   "execution_count": 15,
   "metadata": {},
   "outputs": [
    {
     "data": {
      "text/plain": [
       "Mage       7869\n",
       "Priest     7843\n",
       "Warrior    7438\n",
       "Paladin    7408\n",
       "Rogue      6837\n",
       "Druid      6615\n",
       "Shaman     6529\n",
       "Warlock    6472\n",
       "Hunter     5984\n",
       "Name: deck_class, dtype: int64"
      ]
     },
     "execution_count": 15,
     "metadata": {},
     "output_type": "execute_result"
    }
   ],
   "source": [
    "#Check data completeness.Check whether all 9 deck_class(player's profession) included.\n",
    "decks['deck_class'].value_counts()"
   ]
  },
  {
   "cell_type": "code",
   "execution_count": 16,
   "metadata": {},
   "outputs": [
    {
     "data": {
      "text/plain": [
       "Old Gods         24386\n",
       "Explorers        18386\n",
       "Karazhan          6933\n",
       "Yogg Nerf         6476\n",
       "Classic Nerfs     3471\n",
       "Gadgetzan         3343\n",
       "Name: deck_set, dtype: int64"
      ]
     },
     "execution_count": 16,
     "metadata": {},
     "output_type": "execute_result"
    }
   ],
   "source": [
    "#Check data uniformity.Check whether all the released (featured expansion) included.\n",
    "decks['deck_set'].value_counts()"
   ]
  },
  {
   "cell_type": "markdown",
   "metadata": {},
   "source": [
    "Decks are generally balanced featured in different expansions,so let's continue."
   ]
  },
  {
   "cell_type": "code",
   "execution_count": 17,
   "metadata": {},
   "outputs": [
    {
     "data": {
      "text/plain": [
       "Ranked Deck      38132\n",
       "None             15794\n",
       "Theorycraft       4153\n",
       "Tavern Brawl      1731\n",
       "Arena             1366\n",
       "PvE Adventure     1235\n",
       "Tournament         584\n",
       "Name: deck_type, dtype: int64"
      ]
     },
     "execution_count": 17,
     "metadata": {},
     "output_type": "execute_result"
    }
   ],
   "source": [
    "#Check data uniformity.\n",
    "decks['deck_type'].value_counts()"
   ]
  },
  {
   "cell_type": "markdown",
   "metadata": {},
   "source": [
    "There are different mode of gaming in Hearthstone.\n",
    "PvE,Tavern Brawl and Arena invole decks that are randomly built by system not the player, so we will get rid of them.Theorycraft means praticing sets with unreleased expansion so I get rid of that too.\n",
    "\n",
    "In this sense, only Ranked Deck and Tournament are the decks built to PVP, so we will only analyze these two."
   ]
  },
  {
   "cell_type": "code",
   "execution_count": 18,
   "metadata": {},
   "outputs": [
    {
     "name": "stdout",
     "output_type": "stream",
     "text": [
      "38132\n",
      "584\n"
     ]
    }
   ],
   "source": [
    "Ranked_decks=decks[decks['deck_type']=='Ranked Deck']\n",
    "Tournament_decks=decks[decks['deck_type']=='Tournament']\n",
    "print (len(Ranked_decks))\n",
    "print (len(Tournament_decks))"
   ]
  },
  {
   "cell_type": "code",
   "execution_count": 19,
   "metadata": {},
   "outputs": [
    {
     "data": {
      "text/plain": [
       "38716"
      ]
     },
     "execution_count": 19,
     "metadata": {},
     "output_type": "execute_result"
    }
   ],
   "source": [
    "import MySQLdb#Concat 2 decks collection\n",
    "decks=pd.concat([Ranked_decks,Tournament_decks])\n",
    "len(decks)"
   ]
  },
  {
   "cell_type": "markdown",
   "metadata": {},
   "source": [
    "## Connect to MySQL"
   ]
  },
  {
   "cell_type": "markdown",
   "metadata": {},
   "source": [
    "### Insert table in MySQL"
   ]
  },
  {
   "cell_type": "code",
   "execution_count": 20,
   "metadata": {
    "collapsed": true
   },
   "outputs": [],
   "source": [
    " from sqlalchemy import create_engine\n",
    "conn = create_engine('mysql+mysqldb://root:your password@localhost:3306/your schema?charset=utf8')"
   ]
  },
  {
   "cell_type": "code",
   "execution_count": 21,
   "metadata": {},
   "outputs": [
    {
     "name": "stderr",
     "output_type": "stream",
     "text": [
      "C:\\Users\\HP\\Anaconda3\\lib\\site-packages\\sqlalchemy\\engine\\default.py:470: Warning: (1366, \"Incorrect string value: '\\\\xB6\\\\xAB\\\\xB2\\\\xBF\\\\xB1\\\\xEA...' for column 'VARIABLE_VALUE' at row 481\")\n",
      "  cursor.execute(statement, parameters)\n",
      "C:\\Users\\HP\\Anaconda3\\lib\\site-packages\\sqlalchemy\\dialects\\mysql\\base.py:1569: Warning: (1287, \"'@@tx_isolation' is deprecated and will be removed in a future release. Please use '@@transaction_isolation' instead\")\n",
      "  cursor.execute('SELECT @@tx_isolation')\n"
     ]
    }
   ],
   "source": [
    "#create table\"decks\" in MySQL \n",
    "pd.io.sql.to_sql(decks,'decks',con=conn,if_exists='replace')"
   ]
  },
  {
   "cell_type": "code",
   "execution_count": 23,
   "metadata": {
    "collapsed": true
   },
   "outputs": [],
   "source": [
    "#create table\"decks_ref\" in MySQL\n",
    "pd.io.sql.to_sql(decks_ref,'decks_ref',con=conn,if_exists='replace')"
   ]
  },
  {
   "cell_type": "markdown",
   "metadata": {
    "collapsed": true
   },
   "source": [
    "### User Case"
   ]
  },
  {
   "cell_type": "code",
   "execution_count": 24,
   "metadata": {
    "collapsed": true
   },
   "outputs": [],
   "source": [
    "#connect to MySQL\n",
    "import MySQLdb\n",
    "\n",
    "db = MySQLdb.connect(\"localhost\",\"root\",\"your password\",\"assignment1\" )"
   ]
  },
  {
   "cell_type": "code",
   "execution_count": 25,
   "metadata": {
    "collapsed": true
   },
   "outputs": [],
   "source": [
    "# Get cursor\n",
    "cursor = db.cursor()"
   ]
  },
  {
   "cell_type": "code",
   "execution_count": 27,
   "metadata": {},
   "outputs": [
    {
     "data": {
      "text/plain": [
       "0"
      ]
     },
     "execution_count": 27,
     "metadata": {},
     "output_type": "execute_result"
    }
   ],
   "source": [
    "# Set Primary Key\n",
    "cursor.execute(\"alter table decks add constraint PK1 primary key(deck_id)\")"
   ]
  },
  {
   "cell_type": "code",
   "execution_count": 28,
   "metadata": {},
   "outputs": [
    {
     "data": {
      "text/plain": [
       "0"
      ]
     },
     "execution_count": 28,
     "metadata": {},
     "output_type": "execute_result"
    }
   ],
   "source": [
    "cursor.execute(\"alter table decks_ref add constraint PK2 primary key(deck_id)\")"
   ]
  },
  {
   "cell_type": "markdown",
   "metadata": {},
   "source": [
    "### User case 1:Find the top 5 most used \"Beginning Card\" across all Mage decks"
   ]
  },
  {
   "cell_type": "code",
   "execution_count": 29,
   "metadata": {
    "collapsed": true
   },
   "outputs": [],
   "source": [
    "#get cursor\n",
    "cursor=db.cursor()"
   ]
  },
  {
   "cell_type": "code",
   "execution_count": 34,
   "metadata": {},
   "outputs": [
    {
     "data": {
      "text/plain": [
       "5"
      ]
     },
     "execution_count": 34,
     "metadata": {},
     "output_type": "execute_result"
    }
   ],
   "source": [
    "#return 5 most used beginning card in \n",
    "cursor.execute(\" select card_0 as beginning_card, count(*) as times from decks_ref a inner join (select deck_id from decks where deck_class='Mage') b on a.deck_id=b.deck_id group by card_0 order by times desc limit 5\")"
   ]
  },
  {
   "cell_type": "code",
   "execution_count": 35,
   "metadata": {},
   "outputs": [
    {
     "name": "stdout",
     "output_type": "stream",
     "text": [
      "(card_id :count) (('77', 2166), ('315', 745), ('138', 638), ('113', 407), ('195', 189))\n"
     ]
    }
   ],
   "source": [
    "#the output format will be('card_id_1':count);(('card_id_2':count))....\n",
    "result=cursor.fetchall()\n",
    "print('(card_id :count)',result)"
   ]
  },
  {
   "cell_type": "markdown",
   "metadata": {},
   "source": [
    "### User case 2: Show the most used \"archetyped decks\" & it's card setting"
   ]
  },
  {
   "cell_type": "code",
   "execution_count": 36,
   "metadata": {},
   "outputs": [
    {
     "data": {
      "text/plain": [
       "5"
      ]
     },
     "execution_count": 36,
     "metadata": {},
     "output_type": "execute_result"
    }
   ],
   "source": [
    "# return the 5 most used featured decks(deck_archetype is not null)\n",
    "cursor.execute(\"select deck_archetype,deck_class,count(*) from decks where deck_archetype !='Unknown'group by deck_archetype order by count(*) desc limit 5\")"
   ]
  },
  {
   "cell_type": "code",
   "execution_count": 37,
   "metadata": {},
   "outputs": [
    {
     "name": "stdout",
     "output_type": "stream",
     "text": [
      "(deck_archetype,class,count) (('Control Warrior', 'Warrior', 1586), ('Midrange Shaman', 'Shaman', 1552), ('Control Priest', 'Priest', 1426), ('Midrange Hunter', 'Hunter', 1274), ('Tempo Mage', 'Mage', 1260))\n"
     ]
    }
   ],
   "source": [
    "#Format:('deck_archetype','class','count')\n",
    "result2=cursor.fetchall()\n",
    "print('(deck_archetype,class,count)',result2)"
   ]
  },
  {
   "cell_type": "code",
   "execution_count": 38,
   "metadata": {},
   "outputs": [
    {
     "name": "stdout",
     "output_type": "stream",
     "text": [
      "(Card_Id, Count)  ((38985.0, 345), (39481.0, 290), (38734.0, 260), (41126.0, 117), (38910.0, 51))\n"
     ]
    }
   ],
   "source": [
    "#show most used ultimate card in 'Midrange Hunter' decks;format:\n",
    "cursor.execute(\"select card_29, count(*) as times from decks_ref a inner join(select deck_id from decks where deck_archetype='Midrange Hunter') b on a.deck_id=b.deck_id group by card_29 order by times desc limit 5\")\n",
    "result2_2=cursor.fetchall()\n",
    "print('(Card_Id, Count) ', result2_2)"
   ]
  },
  {
   "cell_type": "markdown",
   "metadata": {},
   "source": [
    "## Usercase 3: show the detail information of the first 10  beginning cards in hunter decks\n"
   ]
  },
  {
   "cell_type": "code",
   "execution_count": 39,
   "metadata": {},
   "outputs": [
    {
     "name": "stdout",
     "output_type": "stream",
     "text": [
      "(('Tundra Rhino', 'FREE', 'HUNTER'), ('Tundra Rhino', 'FREE', 'HUNTER'), ('Tundra Rhino', 'FREE', 'HUNTER'), ('Tundra Rhino', 'FREE', 'HUNTER'), ('Houndmaster', 'FREE', 'HUNTER'), ('Houndmaster', 'FREE', 'HUNTER'), ('Tundra Rhino', 'FREE', 'HUNTER'), ('Tundra Rhino', 'FREE', 'HUNTER'), ('Tundra Rhino', 'FREE', 'HUNTER'), ('Tundra Rhino', 'FREE', 'HUNTER'))\n"
     ]
    }
   ],
   "source": [
    "# worked in MySQL and due to the db module problem can't be done here;\n",
    "#show detail card_0 information and number in a hunter decks\n",
    "\n",
    "cursor.execute(\"select Card_Name, Rarity, Card_Class from card_refs c join decks_ref dr on c.Card_Id=dr.card_0 where playerClass='HUNTER' LIMIT 10;\")\n",
    "result3=cursor.fetchall()\n",
    "print(result3)\n"
   ]
  },
  {
   "cell_type": "markdown",
   "metadata": {},
   "source": [
    "### Usercase 4: Count the type of beginning card（Card_0）"
   ]
  },
  {
   "cell_type": "code",
   "execution_count": 40,
   "metadata": {},
   "outputs": [
    {
     "name": "stdout",
     "output_type": "stream",
     "text": [
      "(('MINION', 19202),)\n"
     ]
    }
   ],
   "source": [
    "# return the type of card_0 and count\n",
    "cursor.execute(\"select Card_Type,count(*) from card_refs c join decks_ref d on c.Card_Id=d.card_0 group by Card_Type;\")\n",
    "result4=cursor.fetchall()\n",
    "print (result4)"
   ]
  },
  {
   "cell_type": "markdown",
   "metadata": {},
   "source": [
    "### Usercase 5: the count of the beginning card types"
   ]
  },
  {
   "cell_type": "code",
   "execution_count": 41,
   "metadata": {},
   "outputs": [
    {
     "name": "stdout",
     "output_type": "stream",
     "text": [
      "(('NEUTRAL', 11372), ('DRUID', 7250), ('SHAMAN', 552), ('HUNTER', 24), ('ROGUE', 1), ('WARRIOR', 1), ('PRIEST', 1), ('MAGE', 1))\n"
     ]
    }
   ],
   "source": [
    "cursor.execute(\"select Card_Class, count(*) as times from card_refs c join decks_ref d on c.Card_Id=d.card_0 group by Card_Class order by times desc\")\n",
    "result5=cursor.fetchall()\n",
    "print (result5)"
   ]
  }
 ],
 "metadata": {
  "kernelspec": {
   "display_name": "Python 3",
   "language": "python",
   "name": "python3"
  },
  "language_info": {
   "codemirror_mode": {
    "name": "ipython",
    "version": 3
   },
   "file_extension": ".py",
   "mimetype": "text/x-python",
   "name": "python",
   "nbconvert_exporter": "python",
   "pygments_lexer": "ipython3",
   "version": "3.6.3"
  }
 },
 "nbformat": 4,
 "nbformat_minor": 2
}
